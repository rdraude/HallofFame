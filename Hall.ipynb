{
 "cells": [
  {
   "cell_type": "code",
   "execution_count": 1,
   "metadata": {},
   "outputs": [],
   "source": [
    "import pandas as pd"
   ]
  },
  {
   "cell_type": "code",
   "execution_count": 2,
   "metadata": {},
   "outputs": [],
   "source": [
    "Famers = pd.read_csv(\"~/hall/HallofFame/Data/HallOfFame.csv\").T\n",
    "Seasons = pd.read_csv(\"~/hall/HallofFame/Data/Batting.csv\").T"
   ]
  },
  {
   "cell_type": "code",
   "execution_count": 3,
   "metadata": {},
   "outputs": [],
   "source": [
    "# Create the hash map of hall of famer playerID's\n",
    "famerMap = {}\n",
    "for hf in Famers:\n",
    "    ID = Famers.iloc[0, hf]\n",
    "    famerMap.update({ID : 1})"
   ]
  },
  {
   "cell_type": "code",
   "execution_count": 4,
   "metadata": {},
   "outputs": [
    {
     "name": "stderr",
     "output_type": "stream",
     "text": [
      "/var/folders/j_/77_ksr7s5r3g23n1hg96xzhh0000gn/T/ipykernel_46301/1820406980.py:4: DeprecationWarning: elementwise comparison failed; this will raise an error in the future.\n",
      "  if (item == []):\n"
     ]
    }
   ],
   "source": [
    "careerMap = {}\n",
    "for player in Seasons:\n",
    "    item = careerMap.get(Seasons.iloc[0, player] , [])\n",
    "    if (item == []):\n",
    "        careerMap.update({Seasons.iloc[0, player] : Seasons.iloc[5: , player].to_numpy()})\n",
    "    else:\n",
    "        careerMap.update({Seasons.iloc[0, player] : item + Seasons.iloc[5: , player].to_numpy()})"
   ]
  },
  {
   "cell_type": "code",
   "execution_count": 5,
   "metadata": {},
   "outputs": [
    {
     "name": "stdout",
     "output_type": "stream",
     "text": [
      "       [3562 14053 2165 4256 746 135 160 1314.0 198.0 149.0 1566 1143.0 167.0\n",
      " 107.0 56.0 79.0 247.0 0]\n",
      "Index(['G', 'AB', 'R', 'H', '2B', '3B', 'HR', 'RBI', 'SB', 'CS', 'BB', 'SO',\n",
      "       'IBB', 'HBP', 'SH', 'SF', 'GIDP', 'visited?'],\n",
      "      dtype='object')\n",
      "       [2986 9847 2227 2935 601 77 762 1996.0 514.0 141.0 2558 1539.0 688.0 106.0\n",
      " 4.0 91.0 165.0 0]\n",
      "Index(['G', 'AB', 'R', 'H', '2B', '3B', 'HR', 'RBI', 'SB', 'CS', 'BB', 'SO',\n",
      "       'IBB', 'HBP', 'SH', 'SF', 'GIDP', 'visited?'],\n",
      "      dtype='object')\n"
     ]
    }
   ],
   "source": [
    "#runs all in about 6 seconds\n",
    "#Checking data aggregation: barry bonds and pete rose correct\n",
    "print(\"       \" + str(careerMap['rosepe01']))\n",
    "print(Seasons.index[5:])\n",
    "print(\"       \" + str(careerMap['bondsba01']))\n",
    "print(Seasons.index[5:])"
   ]
  },
  {
   "cell_type": "code",
   "execution_count": null,
   "metadata": {},
   "outputs": [],
   "source": []
  }
 ],
 "metadata": {
  "kernelspec": {
   "display_name": "Python 3",
   "language": "python",
   "name": "python3"
  },
  "language_info": {
   "codemirror_mode": {
    "name": "ipython",
    "version": 3
   },
   "file_extension": ".py",
   "mimetype": "text/x-python",
   "name": "python",
   "nbconvert_exporter": "python",
   "pygments_lexer": "ipython3",
   "version": "3.9.6"
  }
 },
 "nbformat": 4,
 "nbformat_minor": 2
}
